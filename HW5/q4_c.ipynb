{
 "metadata": {
  "language_info": {
   "codemirror_mode": {
    "name": "ipython",
    "version": 3
   },
   "file_extension": ".py",
   "mimetype": "text/x-python",
   "name": "python",
   "nbconvert_exporter": "python",
   "pygments_lexer": "ipython3",
   "version": "3.9.2"
  },
  "orig_nbformat": 2,
  "kernelspec": {
   "name": "python392jvsc74a57bd0aee8b7b246df8f9039afb4144a1f6fd8d2ca17a180786b69acc140d282b71a49",
   "display_name": "Python 3.9.2 64-bit"
  },
  "metadata": {
   "interpreter": {
    "hash": "aee8b7b246df8f9039afb4144a1f6fd8d2ca17a180786b69acc140d282b71a49"
   }
  }
 },
 "nbformat": 4,
 "nbformat_minor": 2,
 "cells": [
  {
   "cell_type": "code",
   "execution_count": 1,
   "metadata": {},
   "outputs": [],
   "source": [
    "import pandas as pd\n",
    "import matplotlib.pyplot as plt\n",
    "import numpy as np\n",
    "\n",
    "# Uncomment below to view more rows\n",
    "# pd.set_option('display.max_rows', 500)"
   ]
  },
  {
   "cell_type": "code",
   "execution_count": 2,
   "metadata": {},
   "outputs": [
    {
     "output_type": "execute_result",
     "data": {
      "text/plain": [
       "     gender   age\n",
       "0      Male  67.0\n",
       "1    Female  61.0\n",
       "2      Male  80.0\n",
       "3    Female  49.0\n",
       "4    Female  79.0\n",
       "..      ...   ...\n",
       "244    Male  57.0\n",
       "245  Female  14.0\n",
       "246  Female  75.0\n",
       "247    Male  71.0\n",
       "248  Female  78.0\n",
       "\n",
       "[249 rows x 2 columns]"
      ],
      "text/html": "<div>\n<style scoped>\n    .dataframe tbody tr th:only-of-type {\n        vertical-align: middle;\n    }\n\n    .dataframe tbody tr th {\n        vertical-align: top;\n    }\n\n    .dataframe thead th {\n        text-align: right;\n    }\n</style>\n<table border=\"1\" class=\"dataframe\">\n  <thead>\n    <tr style=\"text-align: right;\">\n      <th></th>\n      <th>gender</th>\n      <th>age</th>\n    </tr>\n  </thead>\n  <tbody>\n    <tr>\n      <th>0</th>\n      <td>Male</td>\n      <td>67.0</td>\n    </tr>\n    <tr>\n      <th>1</th>\n      <td>Female</td>\n      <td>61.0</td>\n    </tr>\n    <tr>\n      <th>2</th>\n      <td>Male</td>\n      <td>80.0</td>\n    </tr>\n    <tr>\n      <th>3</th>\n      <td>Female</td>\n      <td>49.0</td>\n    </tr>\n    <tr>\n      <th>4</th>\n      <td>Female</td>\n      <td>79.0</td>\n    </tr>\n    <tr>\n      <th>...</th>\n      <td>...</td>\n      <td>...</td>\n    </tr>\n    <tr>\n      <th>244</th>\n      <td>Male</td>\n      <td>57.0</td>\n    </tr>\n    <tr>\n      <th>245</th>\n      <td>Female</td>\n      <td>14.0</td>\n    </tr>\n    <tr>\n      <th>246</th>\n      <td>Female</td>\n      <td>75.0</td>\n    </tr>\n    <tr>\n      <th>247</th>\n      <td>Male</td>\n      <td>71.0</td>\n    </tr>\n    <tr>\n      <th>248</th>\n      <td>Female</td>\n      <td>78.0</td>\n    </tr>\n  </tbody>\n</table>\n<p>249 rows × 2 columns</p>\n</div>"
     },
     "metadata": {},
     "execution_count": 2
    }
   ],
   "source": [
    "# Read the mixed male-female stroke dataset\n",
    "sample_df = pd.read_csv('./datasets/data_q4_2.csv')\n",
    "sample_df"
   ]
  },
  {
   "cell_type": "code",
   "execution_count": 3,
   "metadata": {},
   "outputs": [],
   "source": [
    "# Calculate CDF at every 'age' point on both Male and Female datasets\n",
    "def get_cdf_list(df):\n",
    "    cdf_list = []\n",
    "    num_samples = df.shape[0]\n",
    "\n",
    "    cumulative_pr = 0\n",
    "    for index, row in df.iterrows():\n",
    "        cumulative_pr += 1 / num_samples\n",
    "        cdf_list.append(cumulative_pr)\n",
    "    \n",
    "    return cdf_list"
   ]
  },
  {
   "cell_type": "code",
   "execution_count": 4,
   "metadata": {},
   "outputs": [],
   "source": [
    "# Split the mixed dataset into 2 sets (Male and Female). Sort them in ascending order of age\n",
    "female_df = sample_df.loc[sample_df['gender'] == 'Female'].sort_values('age').reset_index(drop=True)\n",
    "male_df = sample_df.loc[sample_df['gender'] == 'Male'].sort_values('age').reset_index(drop=True)\n",
    "# Add a new column denoting the CDF at each point in the male and female datasets\n",
    "female_df['female_eCDF'] = get_cdf_list(female_df)\n",
    "male_df['male_eCDF'] = get_cdf_list(male_df)"
   ]
  },
  {
   "cell_type": "code",
   "execution_count": 5,
   "metadata": {},
   "outputs": [
    {
     "output_type": "stream",
     "name": "stdout",
     "text": [
      "Using matplotlib backend: MacOSX\n"
     ]
    }
   ],
   "source": [
    "%matplotlib"
   ]
  },
  {
   "cell_type": "code",
   "execution_count": 6,
   "metadata": {},
   "outputs": [
    {
     "output_type": "execute_result",
     "data": {
      "text/plain": [
       "       x  F_cap_male_left  F_cap_male_right  F_cap_female_left  \\\n",
       "0   42.0         0.000000          0.009259           0.056738   \n",
       "1   43.0         0.009259          0.018519           0.056738   \n",
       "2   45.0         0.018519          0.027778           0.056738   \n",
       "3   47.0         0.027778          0.037037           0.078014   \n",
       "4   48.0         0.037037          0.046296           0.078014   \n",
       "5   49.0         0.046296          0.055556           0.085106   \n",
       "6   51.0         0.055556          0.064815           0.120567   \n",
       "7   54.0         0.064815          0.092593           0.170213   \n",
       "8   56.0         0.092593          0.101852           0.205674   \n",
       "9   57.0         0.101852          0.157407           0.219858   \n",
       "10  58.0         0.157407          0.203704           0.255319   \n",
       "11  59.0         0.203704          0.259259           0.269504   \n",
       "12  60.0         0.259259          0.277778           0.283688   \n",
       "13  61.0         0.277778          0.314815           0.297872   \n",
       "14  63.0         0.314815          0.361111           0.312057   \n",
       "15  64.0         0.361111          0.388889           0.340426   \n",
       "16  65.0         0.388889          0.398148           0.340426   \n",
       "17  66.0         0.398148          0.416667           0.354610   \n",
       "18  67.0         0.416667          0.425926           0.368794   \n",
       "19  68.0         0.425926          0.462963           0.382979   \n",
       "20  69.0         0.462963          0.490741           0.418440   \n",
       "21  70.0         0.490741          0.500000           0.439716   \n",
       "22  71.0         0.500000          0.537037           0.475177   \n",
       "23  72.0         0.537037          0.546296           0.496454   \n",
       "24  73.0         0.546296          0.564815           0.531915   \n",
       "25  74.0         0.564815          0.620370           0.546099   \n",
       "26  75.0         0.620370          0.638889           0.567376   \n",
       "27  76.0         0.638889          0.675926           0.595745   \n",
       "28  77.0         0.675926          0.685185           0.638298   \n",
       "29  78.0         0.685185          0.796296           0.687943   \n",
       "30  79.0         0.796296          0.833333           0.751773   \n",
       "31  80.0         0.833333          0.898148           0.843972   \n",
       "32  81.0         0.898148          0.953704           0.914894   \n",
       "33  82.0         0.953704          1.000000           0.971631   \n",
       "\n",
       "    F_cap_female_right  right_diff_abs  left_diff_abs  \n",
       "0             0.070922          0.0567         0.0617  \n",
       "1             0.070922          0.0475         0.0524  \n",
       "2             0.070922          0.0382         0.0431  \n",
       "3             0.085106          0.0502         0.0481  \n",
       "4             0.085106          0.0410         0.0388  \n",
       "5             0.099291          0.0388         0.0437  \n",
       "6             0.141844          0.0650         0.0770  \n",
       "7             0.191489          0.1054         0.0989  \n",
       "8             0.219858          0.1131         0.1180  \n",
       "9             0.255319          0.1180         0.0979  \n",
       "10            0.269504          0.0979         0.0658  \n",
       "11            0.283688          0.0658         0.0244  \n",
       "12            0.297872          0.0244         0.0201  \n",
       "13            0.312057          0.0201         0.0028  \n",
       "14            0.340426          0.0028         0.0207  \n",
       "15            0.354610          0.0207         0.0343  \n",
       "16            0.354610          0.0485         0.0435  \n",
       "17            0.368794          0.0435         0.0479  \n",
       "18            0.382979          0.0479         0.0429  \n",
       "19            0.418440          0.0429         0.0445  \n",
       "20            0.439716          0.0445         0.0510  \n",
       "21            0.475177          0.0510         0.0248  \n",
       "22            0.496454          0.0248         0.0406  \n",
       "23            0.531915          0.0406         0.0144  \n",
       "24            0.546099          0.0144         0.0187  \n",
       "25            0.567376          0.0187         0.0530  \n",
       "26            0.595745          0.0530         0.0431  \n",
       "27            0.638298          0.0431         0.0376  \n",
       "28            0.687943          0.0376         0.0028  \n",
       "29            0.751773          0.0028         0.0445  \n",
       "30            0.843972          0.0445         0.0106  \n",
       "31            0.914894          0.0106         0.0167  \n",
       "32            0.971631          0.0167         0.0179  \n",
       "33            1.000000          0.0179         0.0000  "
      ],
      "text/html": "<div>\n<style scoped>\n    .dataframe tbody tr th:only-of-type {\n        vertical-align: middle;\n    }\n\n    .dataframe tbody tr th {\n        vertical-align: top;\n    }\n\n    .dataframe thead th {\n        text-align: right;\n    }\n</style>\n<table border=\"1\" class=\"dataframe\">\n  <thead>\n    <tr style=\"text-align: right;\">\n      <th></th>\n      <th>x</th>\n      <th>F_cap_male_left</th>\n      <th>F_cap_male_right</th>\n      <th>F_cap_female_left</th>\n      <th>F_cap_female_right</th>\n      <th>right_diff_abs</th>\n      <th>left_diff_abs</th>\n    </tr>\n  </thead>\n  <tbody>\n    <tr>\n      <th>0</th>\n      <td>42.0</td>\n      <td>0.000000</td>\n      <td>0.009259</td>\n      <td>0.056738</td>\n      <td>0.070922</td>\n      <td>0.0567</td>\n      <td>0.0617</td>\n    </tr>\n    <tr>\n      <th>1</th>\n      <td>43.0</td>\n      <td>0.009259</td>\n      <td>0.018519</td>\n      <td>0.056738</td>\n      <td>0.070922</td>\n      <td>0.0475</td>\n      <td>0.0524</td>\n    </tr>\n    <tr>\n      <th>2</th>\n      <td>45.0</td>\n      <td>0.018519</td>\n      <td>0.027778</td>\n      <td>0.056738</td>\n      <td>0.070922</td>\n      <td>0.0382</td>\n      <td>0.0431</td>\n    </tr>\n    <tr>\n      <th>3</th>\n      <td>47.0</td>\n      <td>0.027778</td>\n      <td>0.037037</td>\n      <td>0.078014</td>\n      <td>0.085106</td>\n      <td>0.0502</td>\n      <td>0.0481</td>\n    </tr>\n    <tr>\n      <th>4</th>\n      <td>48.0</td>\n      <td>0.037037</td>\n      <td>0.046296</td>\n      <td>0.078014</td>\n      <td>0.085106</td>\n      <td>0.0410</td>\n      <td>0.0388</td>\n    </tr>\n    <tr>\n      <th>5</th>\n      <td>49.0</td>\n      <td>0.046296</td>\n      <td>0.055556</td>\n      <td>0.085106</td>\n      <td>0.099291</td>\n      <td>0.0388</td>\n      <td>0.0437</td>\n    </tr>\n    <tr>\n      <th>6</th>\n      <td>51.0</td>\n      <td>0.055556</td>\n      <td>0.064815</td>\n      <td>0.120567</td>\n      <td>0.141844</td>\n      <td>0.0650</td>\n      <td>0.0770</td>\n    </tr>\n    <tr>\n      <th>7</th>\n      <td>54.0</td>\n      <td>0.064815</td>\n      <td>0.092593</td>\n      <td>0.170213</td>\n      <td>0.191489</td>\n      <td>0.1054</td>\n      <td>0.0989</td>\n    </tr>\n    <tr>\n      <th>8</th>\n      <td>56.0</td>\n      <td>0.092593</td>\n      <td>0.101852</td>\n      <td>0.205674</td>\n      <td>0.219858</td>\n      <td>0.1131</td>\n      <td>0.1180</td>\n    </tr>\n    <tr>\n      <th>9</th>\n      <td>57.0</td>\n      <td>0.101852</td>\n      <td>0.157407</td>\n      <td>0.219858</td>\n      <td>0.255319</td>\n      <td>0.1180</td>\n      <td>0.0979</td>\n    </tr>\n    <tr>\n      <th>10</th>\n      <td>58.0</td>\n      <td>0.157407</td>\n      <td>0.203704</td>\n      <td>0.255319</td>\n      <td>0.269504</td>\n      <td>0.0979</td>\n      <td>0.0658</td>\n    </tr>\n    <tr>\n      <th>11</th>\n      <td>59.0</td>\n      <td>0.203704</td>\n      <td>0.259259</td>\n      <td>0.269504</td>\n      <td>0.283688</td>\n      <td>0.0658</td>\n      <td>0.0244</td>\n    </tr>\n    <tr>\n      <th>12</th>\n      <td>60.0</td>\n      <td>0.259259</td>\n      <td>0.277778</td>\n      <td>0.283688</td>\n      <td>0.297872</td>\n      <td>0.0244</td>\n      <td>0.0201</td>\n    </tr>\n    <tr>\n      <th>13</th>\n      <td>61.0</td>\n      <td>0.277778</td>\n      <td>0.314815</td>\n      <td>0.297872</td>\n      <td>0.312057</td>\n      <td>0.0201</td>\n      <td>0.0028</td>\n    </tr>\n    <tr>\n      <th>14</th>\n      <td>63.0</td>\n      <td>0.314815</td>\n      <td>0.361111</td>\n      <td>0.312057</td>\n      <td>0.340426</td>\n      <td>0.0028</td>\n      <td>0.0207</td>\n    </tr>\n    <tr>\n      <th>15</th>\n      <td>64.0</td>\n      <td>0.361111</td>\n      <td>0.388889</td>\n      <td>0.340426</td>\n      <td>0.354610</td>\n      <td>0.0207</td>\n      <td>0.0343</td>\n    </tr>\n    <tr>\n      <th>16</th>\n      <td>65.0</td>\n      <td>0.388889</td>\n      <td>0.398148</td>\n      <td>0.340426</td>\n      <td>0.354610</td>\n      <td>0.0485</td>\n      <td>0.0435</td>\n    </tr>\n    <tr>\n      <th>17</th>\n      <td>66.0</td>\n      <td>0.398148</td>\n      <td>0.416667</td>\n      <td>0.354610</td>\n      <td>0.368794</td>\n      <td>0.0435</td>\n      <td>0.0479</td>\n    </tr>\n    <tr>\n      <th>18</th>\n      <td>67.0</td>\n      <td>0.416667</td>\n      <td>0.425926</td>\n      <td>0.368794</td>\n      <td>0.382979</td>\n      <td>0.0479</td>\n      <td>0.0429</td>\n    </tr>\n    <tr>\n      <th>19</th>\n      <td>68.0</td>\n      <td>0.425926</td>\n      <td>0.462963</td>\n      <td>0.382979</td>\n      <td>0.418440</td>\n      <td>0.0429</td>\n      <td>0.0445</td>\n    </tr>\n    <tr>\n      <th>20</th>\n      <td>69.0</td>\n      <td>0.462963</td>\n      <td>0.490741</td>\n      <td>0.418440</td>\n      <td>0.439716</td>\n      <td>0.0445</td>\n      <td>0.0510</td>\n    </tr>\n    <tr>\n      <th>21</th>\n      <td>70.0</td>\n      <td>0.490741</td>\n      <td>0.500000</td>\n      <td>0.439716</td>\n      <td>0.475177</td>\n      <td>0.0510</td>\n      <td>0.0248</td>\n    </tr>\n    <tr>\n      <th>22</th>\n      <td>71.0</td>\n      <td>0.500000</td>\n      <td>0.537037</td>\n      <td>0.475177</td>\n      <td>0.496454</td>\n      <td>0.0248</td>\n      <td>0.0406</td>\n    </tr>\n    <tr>\n      <th>23</th>\n      <td>72.0</td>\n      <td>0.537037</td>\n      <td>0.546296</td>\n      <td>0.496454</td>\n      <td>0.531915</td>\n      <td>0.0406</td>\n      <td>0.0144</td>\n    </tr>\n    <tr>\n      <th>24</th>\n      <td>73.0</td>\n      <td>0.546296</td>\n      <td>0.564815</td>\n      <td>0.531915</td>\n      <td>0.546099</td>\n      <td>0.0144</td>\n      <td>0.0187</td>\n    </tr>\n    <tr>\n      <th>25</th>\n      <td>74.0</td>\n      <td>0.564815</td>\n      <td>0.620370</td>\n      <td>0.546099</td>\n      <td>0.567376</td>\n      <td>0.0187</td>\n      <td>0.0530</td>\n    </tr>\n    <tr>\n      <th>26</th>\n      <td>75.0</td>\n      <td>0.620370</td>\n      <td>0.638889</td>\n      <td>0.567376</td>\n      <td>0.595745</td>\n      <td>0.0530</td>\n      <td>0.0431</td>\n    </tr>\n    <tr>\n      <th>27</th>\n      <td>76.0</td>\n      <td>0.638889</td>\n      <td>0.675926</td>\n      <td>0.595745</td>\n      <td>0.638298</td>\n      <td>0.0431</td>\n      <td>0.0376</td>\n    </tr>\n    <tr>\n      <th>28</th>\n      <td>77.0</td>\n      <td>0.675926</td>\n      <td>0.685185</td>\n      <td>0.638298</td>\n      <td>0.687943</td>\n      <td>0.0376</td>\n      <td>0.0028</td>\n    </tr>\n    <tr>\n      <th>29</th>\n      <td>78.0</td>\n      <td>0.685185</td>\n      <td>0.796296</td>\n      <td>0.687943</td>\n      <td>0.751773</td>\n      <td>0.0028</td>\n      <td>0.0445</td>\n    </tr>\n    <tr>\n      <th>30</th>\n      <td>79.0</td>\n      <td>0.796296</td>\n      <td>0.833333</td>\n      <td>0.751773</td>\n      <td>0.843972</td>\n      <td>0.0445</td>\n      <td>0.0106</td>\n    </tr>\n    <tr>\n      <th>31</th>\n      <td>80.0</td>\n      <td>0.833333</td>\n      <td>0.898148</td>\n      <td>0.843972</td>\n      <td>0.914894</td>\n      <td>0.0106</td>\n      <td>0.0167</td>\n    </tr>\n    <tr>\n      <th>32</th>\n      <td>81.0</td>\n      <td>0.898148</td>\n      <td>0.953704</td>\n      <td>0.914894</td>\n      <td>0.971631</td>\n      <td>0.0167</td>\n      <td>0.0179</td>\n    </tr>\n    <tr>\n      <th>33</th>\n      <td>82.0</td>\n      <td>0.953704</td>\n      <td>1.000000</td>\n      <td>0.971631</td>\n      <td>1.000000</td>\n      <td>0.0179</td>\n      <td>0.0000</td>\n    </tr>\n  </tbody>\n</table>\n</div>"
     },
     "metadata": {},
     "execution_count": 6
    }
   ],
   "source": [
    "# Find distinct datapoints and their corresponding CDFs at each of the points in both male and female sets\n",
    "male_distinct_df = male_df.drop_duplicates(subset='age', keep=\"last\").reset_index(drop=True)\n",
    "female_distinct_df = female_df.drop_duplicates(subset='age', keep=\"last\").reset_index(drop=True)\n",
    "\n",
    "if male_df.shape[0] > female_df.shape[0]:\n",
    "    x_age = female_distinct_df['age'].to_numpy()\n",
    "else:\n",
    "    x_age = male_distinct_df['age'].to_numpy()\n",
    "\n",
    "KS_Test_cols = ['x', 'F_cap_male_left', 'F_cap_male_right', 'F_cap_female_left', 'F_cap_female_right', 'right_diff_abs', 'left_diff_abs']\n",
    "row_list = []\n",
    "\n",
    "for x in x_age:\n",
    "    # Find CDF to the left of point x in the sorted male dataset\n",
    "    male_left_cdf = male_distinct_df.loc[male_distinct_df['age'] < x, 'male_eCDF']\n",
    "    F_cap_male_left = 0.0 if male_left_cdf.empty else male_left_cdf.max()\n",
    "    # Find CDF to the right of point x in the sorted male dataset\n",
    "    male_right_cdf = male_distinct_df.loc[male_distinct_df['age'] >= x, 'male_eCDF']\n",
    "    F_cap_male_right = 0.0 if male_right_cdf.empty else male_right_cdf.min()\n",
    "    # Find CDF to the left of point x in the sorted female dataset\n",
    "    female_left_cdf = female_distinct_df.loc[female_distinct_df['age'] < x, 'female_eCDF']\n",
    "    F_cap_female_left = 0.0 if female_left_cdf.empty else female_left_cdf.max()\n",
    "    # Find CDF to the left of point x in the sorted female dataset\n",
    "    female_right_cdf = female_distinct_df.loc[female_distinct_df['age'] >= x, 'female_eCDF']\n",
    "    F_cap_female_right = 0.0 if female_right_cdf.empty else female_right_cdf.min()\n",
    "    # Find absolute difference between left CDFs of male and female datasets\n",
    "    left_diff_abs = round(abs(F_cap_male_left - F_cap_female_left), 4)\n",
    "    # Find absolute difference between right CDFs of male and female datasets\n",
    "    right_diff_abs = round(abs(F_cap_male_right - F_cap_female_right), 4)\n",
    "    \n",
    "    # Build each row to be appended to the KS Test Table \n",
    "    row = [x, F_cap_male_left, F_cap_male_right, F_cap_female_left, F_cap_female_right, left_diff_abs, right_diff_abs]\n",
    "    row_dict = dict(zip(KS_Test_cols, row))\n",
    "    row_list.append(row_dict)\n",
    "\n",
    "# Build KS Test Table (represented as a dataframe)\n",
    "KS_Test_df = pd.DataFrame(row_list, columns=KS_Test_cols)\n",
    "KS_Test_df"
   ]
  },
  {
   "cell_type": "code",
   "execution_count": 7,
   "metadata": {},
   "outputs": [
    {
     "output_type": "stream",
     "name": "stdout",
     "text": [
      "KS Statistic is 0.118 at age points 56.0 and 57.0\n"
     ]
    }
   ],
   "source": [
    "# Calculate KS statistic\n",
    "x_points = []\n",
    "d_right = KS_Test_df.iloc[KS_Test_df['right_diff_abs'].idxmax(axis=1)][['x', 'right_diff_abs']]\n",
    "d_left = KS_Test_df.iloc[KS_Test_df['left_diff_abs'].idxmax(axis=1)][['x', 'left_diff_abs']]\n",
    "if d_right['right_diff_abs'] == d_left['left_diff_abs']:\n",
    "    print(\"KS Statistic is {0} at age points {1} and {2}\".format(d_right['right_diff_abs'], d_left['x'], d_right['x']))\n",
    "    x_points.append(d_right['x'])\n",
    "    x_points.append(d_left['x'])\n",
    "elif d_right['right_diff_abs'] > d_left['left_diff_abs']:\n",
    "    print(\"KS Statistic is {0} at {1}\".format(d_right['right_diff_abs'], d_right['x']))\n",
    "    x_points.append(d_right['x'])\n",
    "else:\n",
    "    print(\"KS Statistic is {0} at {1}\".format(d_left['left_diff_abs'], d_left['x']))\n",
    "    x_points.append(d_left['x'])"
   ]
  },
  {
   "cell_type": "code",
   "execution_count": 8,
   "metadata": {},
   "outputs": [
    {
     "output_type": "stream",
     "name": "stdout",
     "text": [
      "Rejected Null Hypothesis: We reject the hypothesis that female patients get a stroke at the same age as male patients, as KS Statistic d=0.118 exceeds threshold 0.05\n"
     ]
    }
   ],
   "source": [
    "# Reject/Accept Null Hypothesis based on calculated KS Statistic d and given threshold=0.05\n",
    "d = max(d_right['right_diff_abs'], d_left['left_diff_abs'])\n",
    "critical_value = 0.05\n",
    "\n",
    "if d > critical_value:\n",
    "    print(\"Rejected Null Hypothesis: We reject the hypothesis that female patients get a stroke at the same age as male patients, as KS Statistic d={0} exceeds threshold {1}\".format(d, critical_value))\n",
    "else:\n",
    "    print(\"Failed to reject Null Hypothesis: We accept the hypothesis that female patients get a stroke at the same age as male patients, as KS Statistic d={0} does not exceed threshold {1}\".format(d, critical_value))"
   ]
  },
  {
   "cell_type": "code",
   "execution_count": 9,
   "metadata": {},
   "outputs": [],
   "source": [
    "# Plot KS Test eCDF\n",
    "plt.figure('KS Test eCDF', figsize=(20,8))\n",
    "plt.step(male_df['age'].to_numpy(), male_df['male_eCDF'], where='post', lw = 1.5, label='Male eCDF')\n",
    "plt.step(female_df['age'].to_numpy(), female_df['female_eCDF'], where='post', lw = 1.5, label='Female eCDF')\n",
    "for x in x_points:\n",
    "    plt.axvline(x, linestyle=\"dashed\", lw=1)\n",
    "\n",
    "plt.xlabel('Age')\n",
    "plt.ylabel('eCDF')\n",
    "plt.legend(loc='upper left')\n",
    "plt.grid()\n",
    "plt.show()"
   ]
  },
  {
   "cell_type": "code",
   "execution_count": null,
   "metadata": {},
   "outputs": [],
   "source": []
  }
 ]
}