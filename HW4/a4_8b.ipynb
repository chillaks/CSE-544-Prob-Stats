{
 "metadata": {
  "language_info": {
   "codemirror_mode": {
    "name": "ipython",
    "version": 3
   },
   "file_extension": ".py",
   "mimetype": "text/x-python",
   "name": "python",
   "nbconvert_exporter": "python",
   "pygments_lexer": "ipython3",
   "version": "3.9.2"
  },
  "orig_nbformat": 2,
  "kernelspec": {
   "name": "python392jvsc74a57bd0ac2eaa0ea0ebeafcc7822e65e46aa9d4f966f30b695406963e145ea4a91cd4fc",
   "display_name": "Python 3.9.2 64-bit"
  },
  "metadata": {
   "interpreter": {
    "hash": "ac2eaa0ea0ebeafcc7822e65e46aa9d4f966f30b695406963e145ea4a91cd4fc"
   }
  }
 },
 "nbformat": 4,
 "nbformat_minor": 2,
 "cells": [
  {
   "cell_type": "code",
   "execution_count": 1,
   "metadata": {},
   "outputs": [],
   "source": [
    "import numpy as np\n",
    "import math\n",
    "from scipy.stats import norm"
   ]
  },
  {
   "cell_type": "code",
   "execution_count": 2,
   "metadata": {},
   "outputs": [
    {
     "output_type": "stream",
     "name": "stdout",
     "text": [
      "For X, Sample mean: 5.0047 and Sample variance: 2.3615\nFor Y, Sample mean: 5.8456 and Sample variance: 6.4724\n"
     ]
    }
   ],
   "source": [
    "X_samples = np.genfromtxt('./datasets/q8_b_X.csv', autostrip=True, skip_header=1, delimiter=',', usecols=1)\n",
    "Y_samples = np.genfromtxt('./datasets/q8_b_Y.csv', autostrip=True, skip_header=1, delimiter=',', usecols=1)\n",
    "\n",
    "X_mean = X_samples.sum() / len(X_samples)\n",
    "Y_mean = Y_samples.sum() / len(Y_samples)\n",
    "X_var = ((X_samples - X_mean) ** 2).sum() / len(X_samples)\n",
    "Y_var = ((Y_samples - Y_mean) ** 2).sum() / len(Y_samples)\n",
    "print(\"For X, Sample mean: {0:.4f} and Sample variance: {1:.4f}\".format(X_mean, X_var))\n",
    "print(\"For Y, Sample mean: {0:.4f} and Sample variance: {1:.4f}\".format(Y_mean, Y_var))"
   ]
  },
  {
   "cell_type": "code",
   "execution_count": 3,
   "metadata": {},
   "outputs": [
    {
     "output_type": "stream",
     "name": "stdout",
     "text": [
      "W = 7.7480225509526015\nRejected Null Hypothesis: Sample means of X and Y are not same\n"
     ]
    }
   ],
   "source": [
    "# W = abs((X_bar - Y_bar) / sqrt((X_var/n) + (Y_var/m)))\n",
    "W = abs((X_mean - Y_mean) / math.sqrt((X_var / len(X_samples)) + (Y_var / len(Y_samples))))\n",
    "print(\"W =\", W)\n",
    "\n",
    "alpha = 0.05\n",
    "# z_0.025 ~= 1.96\n",
    "z_alpha_by_2 = norm.ppf(1 - (alpha / 2))\n",
    "\n",
    "if W > z_alpha_by_2:\n",
    "    print(\"Rejected Null Hypothesis: Sample means of X and Y are not same\")\n",
    "else:\n",
    "    print(\"Failed to reject Null Hypothesis: Sample means of X and Y are same\")"
   ]
  },
  {
   "cell_type": "code",
   "execution_count": null,
   "metadata": {},
   "outputs": [],
   "source": []
  }
 ]
}