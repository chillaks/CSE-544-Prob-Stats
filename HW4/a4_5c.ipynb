{
 "metadata": {
  "language_info": {
   "codemirror_mode": {
    "name": "ipython",
    "version": 3
   },
   "file_extension": ".py",
   "mimetype": "text/x-python",
   "name": "python",
   "nbconvert_exporter": "python",
   "pygments_lexer": "ipython3",
   "version": "3.9.2"
  },
  "orig_nbformat": 2,
  "kernelspec": {
   "name": "python392jvsc74a57bd0aee8b7b246df8f9039afb4144a1f6fd8d2ca17a180786b69acc140d282b71a49",
   "display_name": "Python 3.9.2 64-bit"
  },
  "metadata": {
   "interpreter": {
    "hash": "aee8b7b246df8f9039afb4144a1f6fd8d2ca17a180786b69acc140d282b71a49"
   }
  }
 },
 "nbformat": 4,
 "nbformat_minor": 2,
 "cells": [
  {
   "cell_type": "code",
   "execution_count": 1,
   "metadata": {},
   "outputs": [],
   "source": [
    "import numpy as np\n",
    "import math"
   ]
  },
  {
   "cell_type": "code",
   "execution_count": 2,
   "metadata": {},
   "outputs": [
    {
     "output_type": "stream",
     "name": "stdout",
     "text": [
      "MME estimate for normal mean: 15.568\nMME estimate for normal variance: 7.586\n"
     ]
    }
   ],
   "source": [
    "#MME estimate for Normally distributed Acceleration dataset\n",
    "acc_normal = np.genfromtxt('./datasets/acceleration_normal.csv', autostrip=True)\n",
    "\n",
    "# mme_mean = sigma(X_i) / n\n",
    "mme_mean = acc_normal.sum() / len(acc_normal)\n",
    "# mme_variance = (sigma(X_i ^ 2)/n) - (sigma(X_i)/n)^2\n",
    "mme_variance = (((acc_normal ** 2).sum() / len(acc_normal)) - ((acc_normal.sum() / len(acc_normal)) ** 2))\n",
    "print(\"MME estimate for normal mean:\", round(mme_mean, 3))\n",
    "print(\"MME estimate for normal variance:\", round(mme_variance, 3))"
   ]
  },
  {
   "cell_type": "code",
   "execution_count": 3,
   "metadata": {},
   "outputs": [
    {
     "output_type": "stream",
     "name": "stdout",
     "text": [
      "MME estimate for uniform a: 69.614\nMME estimate for uniform b: 82.406\n"
     ]
    }
   ],
   "source": [
    "#MME estimate for Uniformly distributed Model dataset\n",
    "model_uniform = np.genfromtxt('./datasets/model_uniform.csv', autostrip=True)\n",
    "\n",
    "#X_bar = sigma(X_i) / n\n",
    "sample_mean = model_uniform.sum() / len(model_uniform)\n",
    "# S_bar = sqrt(sigma(X_i^2)/n) - (X_bar^2)\n",
    "sample_std_dev = math.sqrt(((model_uniform ** 2).sum() / len(model_uniform)) - (sample_mean ** 2))\n",
    "\n",
    "# a_mme = X_bar - sqrt(3*(S_bar^2))\n",
    "mme_a = sample_mean - math.sqrt(3 * (sample_std_dev ** 2))\n",
    "# b_mme = X_bar + sqrt(3*(S_bar^2))\n",
    "mme_b = sample_mean + math.sqrt(3 * (sample_std_dev ** 2))\n",
    "\n",
    "print(\"MME estimate for uniform a:\", round(mme_a, 3))\n",
    "print(\"MME estimate for uniform b:\", round(mme_b, 3))"
   ]
  },
  {
   "cell_type": "code",
   "execution_count": 5,
   "metadata": {},
   "outputs": [
    {
     "output_type": "stream",
     "name": "stdout",
     "text": [
      "MME estimate for exponential lambda: 0.043\n"
     ]
    }
   ],
   "source": [
    "#MME estimate for Exponentially distributed MPG dataset\n",
    "mpg_exponential = np.genfromtxt('./datasets/mpg_exponential.csv', autostrip=True)\n",
    "\n",
    "# mme_lambda = n / sigma(X_i)\n",
    "mme_lambda = len(mpg_exponential) / mpg_exponential.sum()\n",
    "\n",
    "print(\"MME estimate for exponential lambda:\", round(mme_lambda, 3))"
   ]
  },
  {
   "cell_type": "code",
   "execution_count": null,
   "metadata": {},
   "outputs": [],
   "source": []
  }
 ]
}