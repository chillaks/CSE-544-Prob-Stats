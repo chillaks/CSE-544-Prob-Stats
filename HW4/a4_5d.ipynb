{
 "metadata": {
  "language_info": {
   "codemirror_mode": {
    "name": "ipython",
    "version": 3
   },
   "file_extension": ".py",
   "mimetype": "text/x-python",
   "name": "python",
   "nbconvert_exporter": "python",
   "pygments_lexer": "ipython3",
   "version": "3.9.2"
  },
  "orig_nbformat": 2,
  "kernelspec": {
   "name": "python392jvsc74a57bd0ac2eaa0ea0ebeafcc7822e65e46aa9d4f966f30b695406963e145ea4a91cd4fc",
   "display_name": "Python 3.9.2 64-bit"
  },
  "metadata": {
   "interpreter": {
    "hash": "ac2eaa0ea0ebeafcc7822e65e46aa9d4f966f30b695406963e145ea4a91cd4fc"
   }
  }
 },
 "nbformat": 4,
 "nbformat_minor": 2,
 "cells": [
  {
   "cell_type": "code",
   "execution_count": 1,
   "metadata": {},
   "outputs": [],
   "source": [
    "import numpy as np\n",
    "import math"
   ]
  },
  {
   "cell_type": "code",
   "execution_count": 2,
   "metadata": {},
   "outputs": [
    {
     "output_type": "stream",
     "name": "stdout",
     "text": [
      "MLE estimate for normal mean: 15.568\nMLE estimate for normal variance: 7.586\n"
     ]
    }
   ],
   "source": [
    "#MLE estimate for Normally distributed Acceleration dataset\n",
    "acc_normal = np.genfromtxt('./datasets/acceleration_normal.csv', autostrip=True)\n",
    "\n",
    "# mle_mean = sigma(X_i) / n\n",
    "mle_mean = acc_normal.sum() / len(acc_normal)\n",
    "# mle_variance = sigma((X_i - mu)^2)/n\n",
    "mle_variance = ((acc_normal - mle_mean) ** 2).sum() / len(acc_normal)\n",
    "print(\"MLE estimate for normal mean:\", round(mle_mean, 3))\n",
    "print(\"MLE estimate for normal variance:\", round(mle_variance, 3))"
   ]
  },
  {
   "cell_type": "code",
   "execution_count": 3,
   "metadata": {},
   "outputs": [
    {
     "output_type": "stream",
     "name": "stdout",
     "text": [
      "MLE estimate for uniform a: 70.0\nMLE estimate for uniform b: 82.0\n"
     ]
    }
   ],
   "source": [
    "#MLE estimate for Uniformly distributed Model dataset\n",
    "model_uniform = np.genfromtxt('./datasets/model_uniform.csv', autostrip=True)\n",
    "\n",
    "# a_mle = min(D), b_mle = max(D) for dataset D\n",
    "print(\"MLE estimate for uniform a:\", model_uniform.min())\n",
    "print(\"MLE estimate for uniform b:\", model_uniform.max())"
   ]
  },
  {
   "cell_type": "code",
   "execution_count": 4,
   "metadata": {},
   "outputs": [
    {
     "output_type": "stream",
     "name": "stdout",
     "text": [
      "MLE estimate for exponential lambda: 0.043\n"
     ]
    }
   ],
   "source": [
    "#MLE estimate for Exponentially distributed MPG dataset\n",
    "mpg_exponential = np.genfromtxt('./datasets/mpg_exponential.csv', autostrip=True)\n",
    "\n",
    "# mle_lambda = n / sigma(X_i)\n",
    "mle_lambda = len(mpg_exponential) / mpg_exponential.sum()\n",
    "\n",
    "print(\"MLE estimate for exponential lambda:\", round(mle_lambda, 3))"
   ]
  },
  {
   "cell_type": "code",
   "execution_count": null,
   "metadata": {},
   "outputs": [],
   "source": []
  }
 ]
}