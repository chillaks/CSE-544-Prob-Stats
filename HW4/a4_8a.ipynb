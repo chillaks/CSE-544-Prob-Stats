{
 "metadata": {
  "language_info": {
   "codemirror_mode": {
    "name": "ipython",
    "version": 3
   },
   "file_extension": ".py",
   "mimetype": "text/x-python",
   "name": "python",
   "nbconvert_exporter": "python",
   "pygments_lexer": "ipython3",
   "version": "3.9.2"
  },
  "orig_nbformat": 2,
  "kernelspec": {
   "name": "python392jvsc74a57bd0aee8b7b246df8f9039afb4144a1f6fd8d2ca17a180786b69acc140d282b71a49",
   "display_name": "Python 3.9.2 64-bit"
  },
  "metadata": {
   "interpreter": {
    "hash": "aee8b7b246df8f9039afb4144a1f6fd8d2ca17a180786b69acc140d282b71a49"
   }
  }
 },
 "nbformat": 4,
 "nbformat_minor": 2,
 "cells": [
  {
   "cell_type": "code",
   "execution_count": 1,
   "metadata": {},
   "outputs": [],
   "source": [
    "import numpy as np\n",
    "import math\n",
    "from scipy.stats import norm"
   ]
  },
  {
   "cell_type": "code",
   "execution_count": 2,
   "metadata": {},
   "outputs": [
    {
     "output_type": "stream",
     "name": "stdout",
     "text": [
      "Sample mean: 0.5409479999999999\nStd Deviation Estimate: 0.10319756311576854\n"
     ]
    }
   ],
   "source": [
    "sample_data = np.genfromtxt('./datasets/q8_a.csv', autostrip=True, skip_header=1, delimiter=',', usecols=1)\n",
    "\n",
    "# given\n",
    "theta_o = 0.5\n",
    "# sample_mean, i.e, theta_cap\n",
    "theta_cap = sample_data.sum() / len(sample_data)\n",
    "print(\"Sample mean:\", theta_cap)\n",
    "# corrected sample variance = sigma((X_i - sample_mean)^2) / (n-1)\n",
    "sample_variance = ((sample_data - theta_cap) ** 2).sum() / (len(sample_data) - 1)\n",
    "se_cap = math.sqrt(sample_variance)\n",
    "print(\"Std Deviation Estimate:\", se_cap)"
   ]
  },
  {
   "cell_type": "code",
   "execution_count": 3,
   "metadata": {},
   "outputs": [
    {
     "output_type": "stream",
     "name": "stdout",
     "text": [
      "W = 0.396792315280389\nFailed to reject Null Hypothesis: True Mean = 0.5\n"
     ]
    }
   ],
   "source": [
    "# calculate Wald's Test statistic W \n",
    "W = abs((theta_cap - theta_o) / se_cap)\n",
    "print(\"W =\", W)\n",
    "\n",
    "alpha = 0.02\n",
    "# z_0.01 ~= 2.3263\n",
    "z_alpha_by_2 = norm.ppf(1 - (alpha / 2))\n",
    "\n",
    "if W > z_alpha_by_2:\n",
    "    print(\"Rejected Null Hypothesis: True Mean = 0.5\")\n",
    "else:\n",
    "    print(\"Failed to reject Null Hypothesis: True Mean = 0.5\")"
   ]
  },
  {
   "cell_type": "code",
   "execution_count": null,
   "metadata": {},
   "outputs": [],
   "source": []
  }
 ]
}