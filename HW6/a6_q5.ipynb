{
 "metadata": {
  "language_info": {
   "codemirror_mode": {
    "name": "ipython",
    "version": 3
   },
   "file_extension": ".py",
   "mimetype": "text/x-python",
   "name": "python",
   "nbconvert_exporter": "python",
   "pygments_lexer": "ipython3",
   "version": "3.9.2"
  },
  "orig_nbformat": 2,
  "kernelspec": {
   "name": "python392jvsc74a57bd0aee8b7b246df8f9039afb4144a1f6fd8d2ca17a180786b69acc140d282b71a49",
   "display_name": "Python 3.9.2 64-bit"
  },
  "metadata": {
   "interpreter": {
    "hash": "aee8b7b246df8f9039afb4144a1f6fd8d2ca17a180786b69acc140d282b71a49"
   }
  }
 },
 "nbformat": 4,
 "nbformat_minor": 2,
 "cells": [
  {
   "cell_type": "code",
   "execution_count": 5,
   "metadata": {},
   "outputs": [],
   "source": [
    "import pandas as pd\n",
    "import numpy as np\n",
    "from sklearn import linear_model\n",
    "\n",
    "np.set_printoptions(edgeitems=5)"
   ]
  },
  {
   "cell_type": "code",
   "execution_count": 6,
   "metadata": {},
   "outputs": [],
   "source": [
    "admission_data = pd.read_csv('./datasets/q5.csv')\n",
    "# First 400 rows - Training data\n",
    "training_data = admission_data[:400]\n",
    "# Last 100 rows - Test data\n",
    "test_data = admission_data[-100:]\n",
    "\n",
    "# number of training data observations\n",
    "n_train = training_data.shape[0]\n",
    "# number of test data observations\n",
    "n_test = test_data.shape[0]\n",
    "\n",
    "# Dependant Matrix Y of dimension n * 1, which is the set of observed Admit Chance in the training data\n",
    "Y_train = training_data.iloc[:, :1].values\n",
    "# Dependant Matrix Y of dimension n * 1, which is the set of observed Admit Chance in the test data\n",
    "Y_test_actual = test_data.iloc[:, :1].values\n"
   ]
  },
  {
   "cell_type": "code",
   "execution_count": 7,
   "metadata": {},
   "outputs": [
    {
     "output_type": "stream",
     "name": "stdout",
     "text": [
      "    Beta Values\nβ1    -0.002911\nβ2     0.003232\nβ3     0.019910\nβ4     0.000576\nβ5     0.023193\nβ6     0.130898\nβ7     0.056820\nSSE using all 7 features is 0.3162\n\n    sklearn Beta Values\nβ1             0.001737\nβ2             0.002920\nβ3             0.005717\nβ4            -0.003305\nβ5             0.022353\nβ6             0.118939\nβ7             0.024525\nSSE using sklearn with all 7 features is 0.1843\n\n"
     ]
    }
   ],
   "source": [
    "# Step 1) Calculate the Beta matrix using the training data observations\n",
    "# number of features\n",
    "k = training_data.shape[1] - 1\n",
    "# Feature matrix X of dimension n * k (does not include the intercept beta_0) on the training data\n",
    "X_train = training_data.iloc[:, 1:].values\n",
    "X_train_T = X_train.transpose()\n",
    "\n",
    "# To find - the Beta coefficient matrix of dimension k * 1 (does not include the intercept beta_0), of the form beta_1 to beta_k\n",
    "# The Beta matrix is given by beta_hat = inverse(X_T * X) * (X_T * Y)\n",
    "inverse_term = np.linalg.inv(X_train_T.dot(X_train))\n",
    "beta_hat = inverse_term.dot(X_train_T.dot(Y_train))\n",
    "print(pd.DataFrame(beta_hat, columns=['Beta Values'], index=['β'+ str(i) for i in range(1, k+1)]))\n",
    "\n",
    "# Step 2) Using the Beta matrix obtained, calculate the predicted values for Chance of Admit on the test data\n",
    "# Feature matrix X of dimension n * k (does not include the intercept beta_0) on the test data\n",
    "X_test = test_data.iloc[:, 1:].values\n",
    "# Calculate Prediction Matrix Y_hat = X_test * beta_cap, which has dimension n * 1\n",
    "Y_hat = X_test.dot(beta_hat).round(3)\n",
    "# print(Y_hat.flatten())\n",
    "\n",
    "# Calculate SSE\n",
    "residual_cap = Y_test_actual - Y_hat\n",
    "sse = (residual_cap ** 2).sum()\n",
    "print(\"SSE using all 7 features is {0}\\n\".format(round(sse, 4)))\n",
    "\n",
    "# Using sklearn's LinearRegression without fitting the intercept beta_0, for comparison with the result we got above. Both should ideally be the same.\n",
    "mlr_model = linear_model.LinearRegression(fit_intercept=True)\n",
    "mlr_model.fit(X_train, Y_train)\n",
    "Y_pred = mlr_model.predict(X_test)\n",
    "print(pd.DataFrame(mlr_model.coef_.transpose(), columns=['sklearn Beta Values'], index=['β'+ str(i) for i in range(1, k+1)]))\n",
    "print(\"SSE using sklearn with all 7 features is {0}\\n\".format(round(((Y_test_actual - Y_pred) ** 2).sum(), 4)))\n"
   ]
  },
  {
   "cell_type": "code",
   "execution_count": 4,
   "metadata": {},
   "outputs": [
    {
     "output_type": "stream",
     "name": "stdout",
     "text": [
      "    Beta Values\nβ1     0.003887\nβ2     0.041874\nβ3     0.048257\nSSE using TOEFL, SOP and LOR features is 0.6403\n\n"
     ]
    }
   ],
   "source": [
    "k = 3\n",
    "X_train = training_data[['TOEFL Score', 'SOP', 'LOR']].values\n",
    "X_train_T = X_train.transpose()\n",
    "\n",
    "inverse_term = np.linalg.inv(X_train_T.dot(X_train))\n",
    "beta_hat = inverse_term.dot(X_train_T.dot(Y_train))\n",
    "print(pd.DataFrame(beta_hat, columns=['Beta Values'], index=['β'+ str(i) for i in range(1, k+1)]))\n",
    "\n",
    "X_test = test_data[['TOEFL Score', 'SOP', 'LOR']].values\n",
    "Y_hat = X_test.dot(beta_hat).round(3)\n",
    "# print(Y_hat.flatten())\n",
    "\n",
    "# Calculate SSE\n",
    "residual_cap = Y_test_actual - Y_hat\n",
    "sse = (residual_cap ** 2).sum()\n",
    "print(\"SSE using TOEFL, SOP and LOR features is {0}\\n\".format(round(sse, 4)))\n",
    "\n"
   ]
  },
  {
   "cell_type": "code",
   "execution_count": 5,
   "metadata": {},
   "outputs": [
    {
     "output_type": "stream",
     "name": "stdout",
     "text": [
      "    Beta Values\nβ1    -0.004106\nβ2     0.235712\nSSE using GRE and GPA features is 0.4648\n\n"
     ]
    }
   ],
   "source": [
    "k = 2\n",
    "X_train = training_data[['GRE Score', 'GPA']].values\n",
    "X_train_T = X_train.transpose()\n",
    "\n",
    "inverse_term = np.linalg.inv(X_train_T.dot(X_train))\n",
    "beta_hat = inverse_term.dot(X_train_T.dot(Y_train))\n",
    "print(pd.DataFrame(beta_hat, columns=['Beta Values'], index=['β'+ str(i) for i in range(1, k+1)]))\n",
    "\n",
    "X_test = test_data[['GRE Score', 'GPA']].values\n",
    "Y_hat = X_test.dot(beta_hat).round(3)\n",
    "# print(Y_hat.flatten())\n",
    "\n",
    "# Calculate SSE\n",
    "residual_cap = Y_test_actual - Y_hat\n",
    "sse = (residual_cap ** 2).sum()\n",
    "print(\"SSE using GRE and GPA features is {0}\\n\".format(round(sse, 4)))"
   ]
  },
  {
   "cell_type": "code",
   "execution_count": null,
   "metadata": {},
   "outputs": [],
   "source": []
  }
 ]
}